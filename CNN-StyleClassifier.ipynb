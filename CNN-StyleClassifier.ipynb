{
 "cells": [
  {
   "cell_type": "markdown",
   "metadata": {},
   "source": [
    "### CNN \n",
    "(https://shonit2096.medium.com/cnn-on-cifar10-data-set-using-pytorch-34be87e09844)\n",
    "\n",
    "other CNN: https://medium.com/swlh/image-classification-with-cnn-4f2a501faadb"
   ]
  },
  {
   "cell_type": "markdown",
   "metadata": {},
   "source": [
    "Libraries"
   ]
  },
  {
   "cell_type": "code",
   "execution_count": 20,
   "metadata": {},
   "outputs": [],
   "source": [
    "import torch\n",
    "import numpy as np\n",
    "import matplotlib.pyplot as plt\n",
    "from torchvision import datasets\n",
    "import torchvision.transforms as transforms\n",
    "from torch.utils.data.sampler import SubsetRandomSampler\n",
    "\n",
    "from torch.utils.data import Dataset\n",
    "from torchvision.transforms import ToTensor"
   ]
  },
  {
   "cell_type": "markdown",
   "metadata": {},
   "source": [
    "Custom dataset \n",
    "(https://pytorch.org/tutorials/beginner/basics/data_tutorial.html)\n",
    "(https://pytorch.org/tutorials/beginner/data_loading_tutorial.html)"
   ]
  },
  {
   "cell_type": "code",
   "execution_count": 21,
   "metadata": {},
   "outputs": [],
   "source": [
    "import os\n",
    "import pandas as pd\n",
    "from torchvision.io import read_image\n",
    "\n",
    "class CustomImageDataset(Dataset):\n",
    "    def __init__(self, annotations_file, img_dir, transform=None, target_transform=None):\n",
    "        self.img_labels = pd.read_csv(annotations_file)\n",
    "        self.img_dir = img_dir\n",
    "        self.transform = transform\n",
    "        self.target_transform = target_transform\n",
    "\n",
    "    def __len__(self):\n",
    "        return len(self.img_labels)\n",
    "\n",
    "    def __getitem__(self, idx):\n",
    "        img_path = os.path.join(self.img_dir, self.img_labels.iloc[idx, 0])\n",
    "        image = read_image(img_path)\n",
    "        label = self.img_labels.iloc[idx, 1]\n",
    "        if self.transform:\n",
    "            image = self.transform(image)\n",
    "        if self.target_transform:\n",
    "            label = self.target_transform(label)\n",
    "        return image, label"
   ]
  },
  {
   "cell_type": "markdown",
   "metadata": {},
   "source": [
    "Rescale images"
   ]
  },
  {
   "cell_type": "code",
   "execution_count": 22,
   "metadata": {},
   "outputs": [],
   "source": [
    "from skimage import io, transform\n",
    "\n",
    "class Rescale(object):\n",
    "    \"\"\"Rescale the image in a sample to a given size.\n",
    "\n",
    "    Args:\n",
    "        output_size (tuple or int): Desired output size. If tuple, output is\n",
    "            matched to output_size. If int, smaller of image edges is matched\n",
    "            to output_size keeping aspect ratio the same.\n",
    "    \"\"\"\n",
    "\n",
    "    def __init__(self, output_size):\n",
    "        assert isinstance(output_size, (int, tuple))\n",
    "        self.output_size = output_size\n",
    "\n",
    "    def __call__(self, image):\n",
    "        image = image.permute(1, 2, 0)\n",
    "        img = transform.resize(image, (self.output_size, self.output_size))\n",
    "\n",
    "        return img\n",
    "\n",
    "\n",
    "class ToTensor(object):\n",
    "    \"\"\"Convert ndarrays in sample to Tensors.\"\"\"\n",
    "\n",
    "    def __call__(self, sample):\n",
    "        image = sample\n",
    "\n",
    "        # swap color axis because\n",
    "        # numpy image: H x W x C\n",
    "        # torch image: C x H x W\n",
    "        image = image.transpose((2, 0, 1))\n",
    "        return torch.from_numpy(image).float()"
   ]
  },
  {
   "cell_type": "markdown",
   "metadata": {},
   "source": [
    "Stele dataset with transformations"
   ]
  },
  {
   "cell_type": "code",
   "execution_count": 23,
   "metadata": {},
   "outputs": [],
   "source": [
    "transformed_dataset = CustomImageDataset(annotations_file='D:\\\\UniMSc\\\\MA\\\\data\\\\STELES\\\\lbls.csv',\n",
    "                                         img_dir='D:\\\\UniMSc\\\\MA\\\\data\\\\STELES\\\\imgs\\\\',\n",
    "                                         transform=transforms.Compose([\n",
    "#                                                transforms.Grayscale(num_output_channels=1),\n",
    "                                               Rescale(28),\n",
    "                                               ToTensor(),\n",
    "#                                                transforms.Normalize((0.5), (0.5))\n",
    "                                           ]))"
   ]
  },
  {
   "cell_type": "markdown",
   "metadata": {},
   "source": [
    "Visualise transformed stele dataset sample"
   ]
  },
  {
   "cell_type": "code",
   "execution_count": 24,
   "metadata": {},
   "outputs": [
    {
     "name": "stdout",
     "output_type": "stream",
     "text": [
      "0 torch.Size([1, 28, 28]) 0\n",
      "1 torch.Size([1, 28, 28]) 0\n",
      "2 torch.Size([1, 28, 28]) 0\n",
      "3 torch.Size([1, 28, 28]) 0\n"
     ]
    },
    {
     "data": {
      "image/png": "[encoded data removed]",
      "text/plain": [
       "<Figure size 432x288 with 4 Axes>"
      ]
     },
     "metadata": {
      "needs_background": "light"
     },
     "output_type": "display_data"
    }
   ],
   "source": [
    "fig = plt.figure()\n",
    "\n",
    "for i in range(len(transformed_dataset)):\n",
    "    image, label = transformed_dataset[i]\n",
    "\n",
    "    print(i, image.shape, label)\n",
    "\n",
    "    ax = plt.subplot(1, 4, i + 1)\n",
    "    plt.tight_layout()\n",
    "    ax.set_title('Sample #{}'.format(i))\n",
    "    ax.axis('off')\n",
    "    plt.imshow(image.permute(1, 2, 0), cmap='gray')\n",
    "\n",
    "    if i == 3:\n",
    "        plt.show()\n",
    "        break"
   ]
  },
  {
   "cell_type": "markdown",
   "metadata": {},
   "source": [
    "CUDA"
   ]
  },
  {
   "cell_type": "code",
   "execution_count": 25,
   "metadata": {},
   "outputs": [
    {
     "name": "stdout",
     "output_type": "stream",
     "text": [
      "CUDA is not available.  Training on CPU ...\n"
     ]
    }
   ],
   "source": [
    "# check if CUDA is available\n",
    "train_on_gpu = torch.cuda.is_available()\n",
    "\n",
    "if not train_on_gpu:\n",
    "    print('CUDA is not available.  Training on CPU ...')\n",
    "else:\n",
    "    print('CUDA is available!  Training on GPU ...')"
   ]
  },
  {
   "cell_type": "markdown",
   "metadata": {},
   "source": [
    "Data Preparation"
   ]
  },
  {
   "cell_type": "code",
   "execution_count": 26,
   "metadata": {},
   "outputs": [],
   "source": [
    "# number of subprocesses to use for data loading\n",
    "num_workers = 0\n",
    "# how many samples per batch to load\n",
    "batch_size = 20\n",
    "# percentage of training set to use as validation\n",
    "valid_size = 0.2# convert data to torch.FloatTensor\n",
    "test_size = 0.1\n",
    "\n",
    "num_train = len(transformed_dataset)\n",
    "indices = list(range(num_train))\n",
    "np.random.shuffle(indices)\n",
    "valid_split = int(np.floor(valid_size * num_train))\n",
    "test_split = int(np.floor(test_size * num_train))\n",
    "train_index, valid_index = indices[valid_split:], indices[:valid_split]# define samplers for obtaining training and validation batches\n",
    "train_index, test_index = indices[test_split:], indices[:test_split]\n",
    "train_sampler = SubsetRandomSampler(train_index)\n",
    "valid_sampler = SubsetRandomSampler(valid_index)# prepare data loaders\n",
    "test_sampler = SubsetRandomSampler(test_index)\n",
    "train_loader = torch.utils.data.DataLoader(transformed_dataset, batch_size = batch_size, \n",
    "                                           sampler = train_sampler, num_workers = num_workers)\n",
    "valid_loader = torch.utils.data.DataLoader(transformed_dataset, batch_size = batch_size,\n",
    "                                          sampler = valid_sampler, num_workers = num_workers)\n",
    "test_loader = torch.utils.data.DataLoader(transformed_dataset, batch_size = batch_size,\n",
    "                                         sampler = test_sampler, num_workers = num_workers)\n",
    "\n",
    "# specify the image classes\n",
    "classes = ['style ' + str(i) for i in range(21)]"
   ]
  },
  {
   "cell_type": "code",
   "execution_count": 27,
   "metadata": {},
   "outputs": [
    {
     "name": "stdout",
     "output_type": "stream",
     "text": [
      "(tensor([[[0.8669, 0.8773, 0.8700, 0.8549, 0.8506, 0.8032, 0.7442, 0.6873,\n",
      "          0.5763, 0.5487, 0.5794, 0.6343, 0.7125, 0.8060, 0.8314, 0.8314,\n",
      "          0.8233, 0.8394, 0.8666, 0.8510, 0.8431, 0.8353, 0.8333, 0.8507,\n",
      "          0.8627, 0.8586, 0.8417, 0.7931],\n",
      "         [0.8793, 0.8745, 0.8614, 0.8549, 0.8258, 0.6978, 0.5769, 0.5403,\n",
      "          0.5021, 0.5157, 0.6111, 0.7121, 0.7759, 0.8198, 0.8351, 0.8479,\n",
      "          0.8179, 0.8162, 0.8533, 0.8400, 0.8392, 0.8431, 0.8510, 0.8627,\n",
      "          0.8529, 0.8201, 0.8188, 0.8009],\n",
      "         [0.8804, 0.8586, 0.8321, 0.8231, 0.7609, 0.5903, 0.4877, 0.5296,\n",
      "          0.5571, 0.5545, 0.6583, 0.7766, 0.8281, 0.8445, 0.8695, 0.8816,\n",
      "          0.8082, 0.7728, 0.8385, 0.8681, 0.8536, 0.8392, 0.8339, 0.8378,\n",
      "          0.8338, 0.8132, 0.8061, 0.7931],\n",
      "         [0.8736, 0.8365, 0.8000, 0.7799, 0.7027, 0.5710, 0.5610, 0.6626,\n",
      "          0.6709, 0.6294, 0.6833, 0.7896, 0.8463, 0.8519, 0.8333, 0.8220,\n",
      "          0.7053, 0.6377, 0.7395, 0.8493, 0.8765, 0.8472, 0.8168, 0.8214,\n",
      "          0.8419, 0.8471, 0.8159, 0.7907],\n",
      "         [0.8745, 0.8429, 0.8178, 0.7588, 0.6331, 0.5943, 0.6901, 0.7878,\n",
      "          0.8038, 0.7494, 0.7098, 0.7545, 0.8078, 0.7864, 0.6872, 0.6260,\n",
      "          0.4936, 0.4166, 0.5503, 0.7816, 0.8720, 0.8525, 0.8261, 0.8335,\n",
      "          0.8579, 0.8471, 0.8153, 0.8039],\n",
      "         [0.8675, 0.8627, 0.8268, 0.7322, 0.6111, 0.6197, 0.7524, 0.8613,\n",
      "          0.8933, 0.8069, 0.6621, 0.6011, 0.6247, 0.6197, 0.5685, 0.4926,\n",
      "          0.3510, 0.2767, 0.4260, 0.6884, 0.8206, 0.8548, 0.8737, 0.8669,\n",
      "          0.8537, 0.8471, 0.8263, 0.8078],\n",
      "         [0.8501, 0.8398, 0.8108, 0.7260, 0.6380, 0.6649, 0.7767, 0.8492,\n",
      "          0.8635, 0.7572, 0.5256, 0.3999, 0.4236, 0.4653, 0.5633, 0.5508,\n",
      "          0.4359, 0.3207, 0.4211, 0.6948, 0.8292, 0.8281, 0.8379, 0.8549,\n",
      "          0.8457, 0.8431, 0.8391, 0.8039],\n",
      "         [0.8184, 0.7545, 0.7328, 0.7351, 0.7106, 0.7401, 0.8004, 0.8452,\n",
      "          0.8590, 0.6864, 0.3947, 0.3085, 0.4529, 0.5773, 0.6516, 0.5452,\n",
      "          0.4560, 0.4725, 0.5939, 0.7821, 0.8566, 0.7328, 0.6690, 0.7510,\n",
      "          0.8247, 0.8386, 0.8549, 0.8245],\n",
      "         [0.7865, 0.6959, 0.7041, 0.7845, 0.7938, 0.8069, 0.8392, 0.8651,\n",
      "          0.8555, 0.6522, 0.3688, 0.3756, 0.6177, 0.7518, 0.7101, 0.5084,\n",
      "          0.4885, 0.6702, 0.8059, 0.8598, 0.8094, 0.5766, 0.4638, 0.6181,\n",
      "          0.7840, 0.8464, 0.8627, 0.8597],\n",
      "         [0.7677, 0.7244, 0.7772, 0.8588, 0.8481, 0.8249, 0.8432, 0.8562,\n",
      "          0.8225, 0.6996, 0.5197, 0.5758, 0.7622, 0.7822, 0.6598, 0.5865,\n",
      "          0.6931, 0.8232, 0.8378, 0.8298, 0.7045, 0.4316, 0.3262, 0.5202,\n",
      "          0.7441, 0.8615, 0.8616, 0.8775],\n",
      "         [0.7597, 0.8080, 0.8412, 0.8600, 0.8665, 0.8519, 0.8471, 0.8314,\n",
      "          0.7979, 0.8007, 0.7282, 0.7543, 0.8286, 0.7762, 0.5954, 0.5211,\n",
      "          0.6835, 0.7789, 0.7961, 0.7680, 0.5662, 0.3396, 0.2702, 0.4680,\n",
      "          0.7277, 0.8654, 0.8857, 0.8824],\n",
      "         [0.7326, 0.8216, 0.8510, 0.8437, 0.8406, 0.8602, 0.8574, 0.8165,\n",
      "          0.7857, 0.7768, 0.7636, 0.8041, 0.8367, 0.7791, 0.6028, 0.4679,\n",
      "          0.4867, 0.6277, 0.7841, 0.6616, 0.4275, 0.3463, 0.3772, 0.5376,\n",
      "          0.7354, 0.8652, 0.8890, 0.8637],\n",
      "         [0.7345, 0.8221, 0.8438, 0.8407, 0.8200, 0.8675, 0.8744, 0.7940,\n",
      "          0.7167, 0.6319, 0.6124, 0.6626, 0.7352, 0.7843, 0.7174, 0.5678,\n",
      "          0.3919, 0.4651, 0.6676, 0.5346, 0.4062, 0.5006, 0.6364, 0.7362,\n",
      "          0.8091, 0.8595, 0.8881, 0.8793],\n",
      "         [0.7934, 0.8389, 0.8516, 0.8407, 0.8042, 0.8125, 0.7853, 0.6877,\n",
      "          0.5898, 0.5165, 0.4755, 0.4922, 0.6085, 0.7679, 0.8230, 0.7237,\n",
      "          0.4636, 0.3658, 0.4594, 0.4865, 0.5711, 0.7158, 0.8050, 0.8196,\n",
      "          0.8353, 0.8392, 0.8679, 0.8639],\n",
      "         [0.8434, 0.8669, 0.8667, 0.8550, 0.8035, 0.7026, 0.6027, 0.5426,\n",
      "          0.5292, 0.5457, 0.5106, 0.5078, 0.6174, 0.7512, 0.8293, 0.7925,\n",
      "          0.5271, 0.3326, 0.3338, 0.4758, 0.7223, 0.8593, 0.8533, 0.7958,\n",
      "          0.8170, 0.8591, 0.8745, 0.8440],\n",
      "         [0.8440, 0.8784, 0.8653, 0.8711, 0.8429, 0.6584, 0.5097, 0.5223,\n",
      "          0.5856, 0.6083, 0.5460, 0.5777, 0.7177, 0.7907, 0.8371, 0.8125,\n",
      "          0.5196, 0.3534, 0.3569, 0.4313, 0.6268, 0.8168, 0.8688, 0.7937,\n",
      "          0.7928, 0.8343, 0.8541, 0.8323],\n",
      "         [0.8480, 0.8745, 0.8627, 0.8848, 0.8699, 0.7353, 0.6161, 0.6219,\n",
      "          0.6512, 0.5473, 0.4925, 0.6221, 0.7912, 0.8328, 0.8578, 0.8057,\n",
      "          0.5152, 0.4099, 0.4737, 0.4009, 0.4274, 0.6514, 0.8178, 0.8004,\n",
      "          0.7608, 0.7837, 0.8233, 0.8255],\n",
      "         [0.8637, 0.8810, 0.8703, 0.8608, 0.8610, 0.8617, 0.8195, 0.7335,\n",
      "          0.5794, 0.4415, 0.5174, 0.7014, 0.7985, 0.8246, 0.8465, 0.7620,\n",
      "          0.4721, 0.4475, 0.6290, 0.4790, 0.3540, 0.4800, 0.6745, 0.7800,\n",
      "          0.7711, 0.7549, 0.7965, 0.8412],\n",
      "         [0.8706, 0.8816, 0.8860, 0.8589, 0.8474, 0.8734, 0.7910, 0.6114,\n",
      "          0.4504, 0.4357, 0.6242, 0.7895, 0.8253, 0.8546, 0.8442, 0.7033,\n",
      "          0.4228, 0.4915, 0.7635, 0.6504, 0.4039, 0.3283, 0.4595, 0.6723,\n",
      "          0.7415, 0.7433, 0.7975, 0.8761],\n",
      "         [0.8769, 0.8567, 0.8751, 0.8799, 0.8245, 0.7523, 0.5890, 0.4165,\n",
      "          0.4369, 0.5826, 0.6962, 0.7492, 0.7964, 0.8378, 0.7978, 0.5987,\n",
      "          0.4282, 0.5477, 0.7748, 0.7939, 0.6039, 0.3774, 0.3355, 0.4745,\n",
      "          0.5775, 0.6838, 0.7805, 0.8587],\n",
      "         [0.8863, 0.8626, 0.8582, 0.8257, 0.7210, 0.5789, 0.4550, 0.4109,\n",
      "          0.5697, 0.7590, 0.7157, 0.6152, 0.6127, 0.6216, 0.6168, 0.4615,\n",
      "          0.4624, 0.6207, 0.7442, 0.8392, 0.7851, 0.5520, 0.3663, 0.3293,\n",
      "          0.3686, 0.4969, 0.6335, 0.7433],\n",
      "         [0.8812, 0.8399, 0.7783, 0.7183, 0.6702, 0.5710, 0.5312, 0.6076,\n",
      "          0.7299, 0.8315, 0.7630, 0.5834, 0.4447, 0.3790, 0.3986, 0.3767,\n",
      "          0.5244, 0.7440, 0.8268, 0.8397, 0.8312, 0.7155, 0.5616, 0.4618,\n",
      "          0.4347, 0.4591, 0.5251, 0.6399],\n",
      "         [0.8532, 0.8030, 0.7172, 0.6904, 0.7519, 0.7324, 0.7486, 0.8424,\n",
      "          0.8449, 0.8353, 0.8217, 0.7220, 0.4690, 0.2732, 0.2922, 0.3608,\n",
      "          0.5832, 0.8295, 0.8949, 0.8342, 0.8231, 0.8166, 0.7694, 0.7269,\n",
      "          0.7039, 0.6660, 0.6207, 0.6761],\n",
      "         [0.8431, 0.8389, 0.8057, 0.7949, 0.8581, 0.8555, 0.8578, 0.9006,\n",
      "          0.8641, 0.8378, 0.8623, 0.8772, 0.6902, 0.4124, 0.3536, 0.4526,\n",
      "          0.6654, 0.8251, 0.8148, 0.7589, 0.7487, 0.7537, 0.7864, 0.8442,\n",
      "          0.8695, 0.8556, 0.8162, 0.8268],\n",
      "         [0.8608, 0.8661, 0.8647, 0.8608, 0.8807, 0.8852, 0.8391, 0.7746,\n",
      "          0.6964, 0.7063, 0.7740, 0.7928, 0.7784, 0.5878, 0.4745, 0.5435,\n",
      "          0.6353, 0.6426, 0.5828, 0.5608, 0.5548, 0.5235, 0.6264, 0.8143,\n",
      "          0.8772, 0.8765, 0.8824, 0.8902],\n",
      "         [0.8745, 0.8770, 0.8828, 0.8794, 0.8549, 0.8496, 0.7580, 0.6103,\n",
      "          0.4604, 0.4501, 0.5973, 0.5669, 0.5821, 0.5311, 0.5123, 0.5045,\n",
      "          0.4722, 0.4258, 0.4078, 0.4275, 0.4333, 0.3765, 0.5103, 0.7630,\n",
      "          0.8392, 0.8388, 0.8406, 0.8406],\n",
      "         [0.8682, 0.8863, 0.9059, 0.8995, 0.8627, 0.8449, 0.7518, 0.5951,\n",
      "          0.4074, 0.3664, 0.5429, 0.4976, 0.4729, 0.5141, 0.5651, 0.5527,\n",
      "          0.5291, 0.5506, 0.5815, 0.5714, 0.5585, 0.5048, 0.5993, 0.7978,\n",
      "          0.8568, 0.8541, 0.8489, 0.8305],\n",
      "         [0.8560, 0.8734, 0.8826, 0.8840, 0.8667, 0.8449, 0.7878, 0.7033,\n",
      "          0.5762, 0.5391, 0.6256, 0.6304, 0.6214, 0.6637, 0.7118, 0.7244,\n",
      "          0.7346, 0.7834, 0.8224, 0.7831, 0.7167, 0.6737, 0.7127, 0.8071,\n",
      "          0.8487, 0.8513, 0.8627, 0.8625]]]), 0)\n"
     ]
    }
   ],
   "source": [
    "# print(train_data[0])\n",
    "print(transformed_dataset[0])"
   ]
  },
  {
   "cell_type": "markdown",
   "metadata": {},
   "source": [
    "Network architecture"
   ]
  },
  {
   "cell_type": "code",
   "execution_count": 28,
   "metadata": {},
   "outputs": [
    {
     "name": "stdout",
     "output_type": "stream",
     "text": [
      "Net(\n",
      "  (conv1): Conv2d(1, 32, kernel_size=(3, 3), stride=(1, 1), padding=(1, 1))\n",
      "  (conv2): Conv2d(32, 64, kernel_size=(5, 5), stride=(1, 1))\n",
      "  (conv3): Conv2d(64, 128, kernel_size=(3, 3), stride=(1, 1), padding=(1, 1))\n",
      "  (conv4): Conv2d(128, 128, kernel_size=(5, 5), stride=(1, 1))\n",
      "  (conv5): Conv2d(128, 256, kernel_size=(3, 3), stride=(1, 1), padding=(1, 1))\n",
      "  (conv6): Conv2d(256, 256, kernel_size=(5, 5), stride=(1, 1))\n",
      "  (pool): MaxPool2d(kernel_size=2, stride=2, padding=0, dilation=1, ceil_mode=False)\n",
      "  (fc1): Linear(in_features=2048, out_features=1024, bias=True)\n",
      "  (fc2): Linear(in_features=1024, out_features=512, bias=True)\n",
      "  (fc3): Linear(in_features=512, out_features=21, bias=True)\n",
      "  (droput): Dropout(p=0.2, inplace=False)\n",
      ")\n"
     ]
    }
   ],
   "source": [
    "import torch.nn as nn\n",
    "import torch.nn.functional as F\n",
    "\n",
    "# define CNN architecture\n",
    "# class Net(nn.Module):  \n",
    "#     def __init__(self):\n",
    "#         super(Net, self).__init__()\n",
    "#         self.conv1 = nn.Conv2d(1, 6, 5)\n",
    "#         self.pool = nn.MaxPool2d(2, 2)\n",
    "#         self.conv2 = nn.Conv2d(6, 16, 5)\n",
    "#         self.fc1 = nn.Linear(16 * 4*4, 120)\n",
    "#         self.fc2 = nn.Linear(120, 84)\n",
    "#         self.fc3 = nn.Linear(84, 21)  \n",
    "        \n",
    "#     def forward(self, x):\n",
    "#         x = self.pool(F.relu(self.conv1(x)))\n",
    "#         x = self.pool(F.relu(self.conv2(x)))\n",
    "#         x = x.view(-1, 16 * 4*4)\n",
    "#         x = F.relu(self.fc1(x))\n",
    "#         x = F.relu(self.fc2(x))\n",
    "#         x = self.fc3(x)\n",
    "#         return x\n",
    "class Net(nn.Module):  \n",
    "    def __init__(self):\n",
    "        super(Net, self).__init__()\n",
    "        self.conv1 = nn.Conv2d(1, 32, 3, padding=1)\n",
    "        self.conv2 = nn.Conv2d(32, 64, 5)\n",
    "        self.conv3 = nn.Conv2d(64, 128, 3, padding=1)\n",
    "        self.conv4 = nn.Conv2d(128, 128, 5)\n",
    "        self.conv5 = nn.Conv2d(128, 256, 3, padding=1)\n",
    "        self.conv6 = nn.Conv2d(256, 256, 5)\n",
    "        self.pool = nn.MaxPool2d(2, 2)\n",
    "        self.fc1 = nn.Linear(128 * 4*4, 1024)\n",
    "        self.fc2 = nn.Linear(1024, 512)\n",
    "        self.fc3 = nn.Linear(512, 21)  \n",
    "        self.droput = nn.Dropout(0.2)\n",
    "        \n",
    "    def forward(self, x):\n",
    "        x = F.relu(self.conv1(x))\n",
    "        x = self.pool(F.relu(self.conv2(x)))  # output: 64 x 12 x 12\n",
    "        x = F.relu(self.conv3(x))\n",
    "        x = self.pool(F.relu(self.conv4(x)))  # output: 128 x 4 x 4\n",
    "#         x = F.relu(self.conv5(x))\n",
    "#         x = self.pool(F.relu(self.conv6(x)))\n",
    "        x = x.view(-1, 128 * 4*4)  # flatten\n",
    "        x = F.relu(self.fc1(x))\n",
    "        x = self.droput(x)\n",
    "        x = F.relu(self.fc2(x))\n",
    "        x = self.droput(x)\n",
    "        x = self.fc3(x)\n",
    "        return x\n",
    "\n",
    "# create a complete CNN\n",
    "model = Net()\n",
    "print(model)"
   ]
  },
  {
   "cell_type": "markdown",
   "metadata": {},
   "source": [
    "Loss function and optimiser"
   ]
  },
  {
   "cell_type": "code",
   "execution_count": 29,
   "metadata": {},
   "outputs": [],
   "source": [
    "# specify loss function (categorical cross-entropy)\n",
    "criterion = nn.CrossEntropyLoss()# specify optimizer (stochastic gradient descent) and learning rate = 0.01\n",
    "optimizer = torch.optim.SGD(model.parameters(),lr = 0.01)"
   ]
  },
  {
   "cell_type": "markdown",
   "metadata": {},
   "source": [
    "Training"
   ]
  },
  {
   "cell_type": "code",
   "execution_count": 30,
   "metadata": {},
   "outputs": [
    {
     "name": "stdout",
     "output_type": "stream",
     "text": [
      "Epoch: 1 \tTraining Loss: 2.735608 \tValidation Loss: 0.606338\n",
      "Validation loss decreased (inf --> 0.606338).  Saving model ...\n",
      "Epoch: 2 \tTraining Loss: 2.726434 \tValidation Loss: 0.604519\n",
      "Validation loss decreased (0.606338 --> 0.604519).  Saving model ...\n",
      "Epoch: 3 \tTraining Loss: 2.717897 \tValidation Loss: 0.602341\n",
      "Validation loss decreased (0.604519 --> 0.602341).  Saving model ...\n",
      "Epoch: 4 \tTraining Loss: 2.710253 \tValidation Loss: 0.600831\n",
      "Validation loss decreased (0.602341 --> 0.600831).  Saving model ...\n",
      "Epoch: 5 \tTraining Loss: 2.706715 \tValidation Loss: 0.600004\n",
      "Validation loss decreased (0.600831 --> 0.600004).  Saving model ...\n",
      "Epoch: 6 \tTraining Loss: 2.698348 \tValidation Loss: 0.595619\n",
      "Validation loss decreased (0.600004 --> 0.595619).  Saving model ...\n",
      "Epoch: 7 \tTraining Loss: 2.644617 \tValidation Loss: 0.572835\n",
      "Validation loss decreased (0.595619 --> 0.572835).  Saving model ...\n",
      "Epoch: 8 \tTraining Loss: 2.559689 \tValidation Loss: 0.538695\n",
      "Validation loss decreased (0.572835 --> 0.538695).  Saving model ...\n",
      "Epoch: 9 \tTraining Loss: 2.437116 \tValidation Loss: 0.536586\n",
      "Validation loss decreased (0.538695 --> 0.536586).  Saving model ...\n",
      "Epoch: 10 \tTraining Loss: 2.371249 \tValidation Loss: 0.510410\n",
      "Validation loss decreased (0.536586 --> 0.510410).  Saving model ...\n",
      "Epoch: 11 \tTraining Loss: 2.332022 \tValidation Loss: 0.523323\n",
      "Epoch: 12 \tTraining Loss: 2.283947 \tValidation Loss: 0.497213\n",
      "Validation loss decreased (0.510410 --> 0.497213).  Saving model ...\n",
      "Epoch: 13 \tTraining Loss: 2.223492 \tValidation Loss: 0.500371\n",
      "Epoch: 14 \tTraining Loss: 2.137771 \tValidation Loss: 0.455601\n",
      "Validation loss decreased (0.497213 --> 0.455601).  Saving model ...\n",
      "Epoch: 15 \tTraining Loss: 2.063977 \tValidation Loss: 0.438286\n",
      "Validation loss decreased (0.455601 --> 0.438286).  Saving model ...\n",
      "Epoch: 16 \tTraining Loss: 1.987576 \tValidation Loss: 0.417753\n",
      "Validation loss decreased (0.438286 --> 0.417753).  Saving model ...\n",
      "Epoch: 17 \tTraining Loss: 1.886019 \tValidation Loss: 0.389766\n",
      "Validation loss decreased (0.417753 --> 0.389766).  Saving model ...\n",
      "Epoch: 18 \tTraining Loss: 1.806912 \tValidation Loss: 0.378889\n",
      "Validation loss decreased (0.389766 --> 0.378889).  Saving model ...\n",
      "Epoch: 19 \tTraining Loss: 1.739445 \tValidation Loss: 0.442929\n",
      "Epoch: 20 \tTraining Loss: 1.709508 \tValidation Loss: 0.361089\n",
      "Validation loss decreased (0.378889 --> 0.361089).  Saving model ...\n",
      "Epoch: 21 \tTraining Loss: 1.670364 \tValidation Loss: 0.343851\n",
      "Validation loss decreased (0.361089 --> 0.343851).  Saving model ...\n",
      "Epoch: 22 \tTraining Loss: 1.625265 \tValidation Loss: 0.348918\n",
      "Epoch: 23 \tTraining Loss: 1.584467 \tValidation Loss: 0.332637\n",
      "Validation loss decreased (0.343851 --> 0.332637).  Saving model ...\n",
      "Epoch: 24 \tTraining Loss: 1.546145 \tValidation Loss: 0.321801\n",
      "Validation loss decreased (0.332637 --> 0.321801).  Saving model ...\n",
      "Epoch: 25 \tTraining Loss: 1.496297 \tValidation Loss: 0.331593\n",
      "Epoch: 26 \tTraining Loss: 1.449446 \tValidation Loss: 0.327404\n",
      "Epoch: 27 \tTraining Loss: 1.402650 \tValidation Loss: 0.296973\n",
      "Validation loss decreased (0.321801 --> 0.296973).  Saving model ...\n",
      "Epoch: 28 \tTraining Loss: 1.344849 \tValidation Loss: 0.292551\n",
      "Validation loss decreased (0.296973 --> 0.292551).  Saving model ...\n",
      "Epoch: 29 \tTraining Loss: 1.314133 \tValidation Loss: 0.306062\n",
      "Epoch: 30 \tTraining Loss: 1.283134 \tValidation Loss: 0.259368\n",
      "Validation loss decreased (0.292551 --> 0.259368).  Saving model ...\n",
      "Epoch: 31 \tTraining Loss: 1.227282 \tValidation Loss: 0.345512\n",
      "Epoch: 32 \tTraining Loss: 1.197635 \tValidation Loss: 0.268479\n",
      "Epoch: 33 \tTraining Loss: 1.155001 \tValidation Loss: 0.238449\n",
      "Validation loss decreased (0.259368 --> 0.238449).  Saving model ...\n",
      "Epoch: 34 \tTraining Loss: 1.122620 \tValidation Loss: 0.260724\n",
      "Epoch: 35 \tTraining Loss: 1.080148 \tValidation Loss: 0.244641\n",
      "Epoch: 36 \tTraining Loss: 1.037579 \tValidation Loss: 0.247186\n",
      "Epoch: 37 \tTraining Loss: 1.017858 \tValidation Loss: 0.248133\n",
      "Epoch: 38 \tTraining Loss: 0.979483 \tValidation Loss: 0.200035\n",
      "Validation loss decreased (0.238449 --> 0.200035).  Saving model ...\n",
      "Epoch: 39 \tTraining Loss: 0.950823 \tValidation Loss: 0.213345\n",
      "Epoch: 40 \tTraining Loss: 0.926813 \tValidation Loss: 0.192273\n",
      "Validation loss decreased (0.200035 --> 0.192273).  Saving model ...\n",
      "Epoch: 41 \tTraining Loss: 0.900023 \tValidation Loss: 0.175194\n",
      "Validation loss decreased (0.192273 --> 0.175194).  Saving model ...\n",
      "Epoch: 42 \tTraining Loss: 0.841750 \tValidation Loss: 0.213687\n",
      "Epoch: 43 \tTraining Loss: 0.829134 \tValidation Loss: 0.189744\n",
      "Epoch: 44 \tTraining Loss: 0.826287 \tValidation Loss: 0.186553\n",
      "Epoch: 45 \tTraining Loss: 0.776476 \tValidation Loss: 0.306189\n",
      "Epoch: 46 \tTraining Loss: 0.763450 \tValidation Loss: 0.147599\n",
      "Validation loss decreased (0.175194 --> 0.147599).  Saving model ...\n",
      "Epoch: 47 \tTraining Loss: 0.725549 \tValidation Loss: 0.150323\n",
      "Epoch: 48 \tTraining Loss: 0.712756 \tValidation Loss: 0.151114\n",
      "Epoch: 49 \tTraining Loss: 0.690689 \tValidation Loss: 0.203862\n",
      "Epoch: 50 \tTraining Loss: 0.675317 \tValidation Loss: 0.147462\n",
      "Validation loss decreased (0.147599 --> 0.147462).  Saving model ...\n",
      "Epoch: 51 \tTraining Loss: 0.648091 \tValidation Loss: 0.146870\n",
      "Validation loss decreased (0.147462 --> 0.146870).  Saving model ...\n",
      "Epoch: 52 \tTraining Loss: 0.618069 \tValidation Loss: 0.144271\n",
      "Validation loss decreased (0.146870 --> 0.144271).  Saving model ...\n",
      "Epoch: 53 \tTraining Loss: 0.610021 \tValidation Loss: 0.120504\n",
      "Validation loss decreased (0.144271 --> 0.120504).  Saving model ...\n",
      "Epoch: 54 \tTraining Loss: 0.583632 \tValidation Loss: 0.134267\n",
      "Epoch: 55 \tTraining Loss: 0.567387 \tValidation Loss: 0.122872\n",
      "Epoch: 56 \tTraining Loss: 0.547150 \tValidation Loss: 0.144513\n",
      "Epoch: 57 \tTraining Loss: 0.537244 \tValidation Loss: 0.129708\n",
      "Epoch: 58 \tTraining Loss: 0.508409 \tValidation Loss: 0.135918\n",
      "Epoch: 59 \tTraining Loss: 0.491952 \tValidation Loss: 0.137045\n",
      "Epoch: 60 \tTraining Loss: 0.479430 \tValidation Loss: 0.162215\n",
      "Epoch: 61 \tTraining Loss: 0.461310 \tValidation Loss: 0.123669\n",
      "Epoch: 62 \tTraining Loss: 0.435902 \tValidation Loss: 0.103812\n",
      "Validation loss decreased (0.120504 --> 0.103812).  Saving model ...\n",
      "Epoch: 63 \tTraining Loss: 0.453918 \tValidation Loss: 0.095827\n",
      "Validation loss decreased (0.103812 --> 0.095827).  Saving model ...\n",
      "Epoch: 64 \tTraining Loss: 0.395388 \tValidation Loss: 0.104117\n",
      "Epoch: 65 \tTraining Loss: 0.390797 \tValidation Loss: 0.099672\n",
      "Epoch: 66 \tTraining Loss: 0.402628 \tValidation Loss: 0.096311\n",
      "Epoch: 67 \tTraining Loss: 0.374556 \tValidation Loss: 0.090137\n",
      "Validation loss decreased (0.095827 --> 0.090137).  Saving model ...\n",
      "Epoch: 68 \tTraining Loss: 0.361445 \tValidation Loss: 0.086972\n",
      "Validation loss decreased (0.090137 --> 0.086972).  Saving model ...\n",
      "Epoch: 69 \tTraining Loss: 0.336611 \tValidation Loss: 0.089227\n",
      "Epoch: 70 \tTraining Loss: 0.337010 \tValidation Loss: 0.099671\n",
      "Epoch: 71 \tTraining Loss: 0.290805 \tValidation Loss: 0.090372\n",
      "Epoch: 72 \tTraining Loss: 0.320246 \tValidation Loss: 0.081914\n",
      "Validation loss decreased (0.086972 --> 0.081914).  Saving model ...\n",
      "Epoch: 73 \tTraining Loss: 0.269047 \tValidation Loss: 0.090639\n",
      "Epoch: 74 \tTraining Loss: 0.282388 \tValidation Loss: 0.081098\n",
      "Validation loss decreased (0.081914 --> 0.081098).  Saving model ...\n",
      "Epoch: 75 \tTraining Loss: 0.255681 \tValidation Loss: 0.077699\n",
      "Validation loss decreased (0.081098 --> 0.077699).  Saving model ...\n"
     ]
    },
    {
     "data": {
      "image/png": "[encoded data removed]",
      "text/plain": [
       "<Figure size 432x288 with 1 Axes>"
      ]
     },
     "metadata": {
      "needs_background": "light"
     },
     "output_type": "display_data"
    }
   ],
   "source": [
    "# number of epochs to train the model\n",
    "n_epochs = 75 #List to store loss to visualize\n",
    "train_losslist = []\n",
    "valid_loss_min = np.Inf # track change in validation loss\n",
    "\n",
    "for epoch in range(1, n_epochs+1):\n",
    "\n",
    "    # keep track of training and validation loss\n",
    "    train_loss = 0.0\n",
    "    valid_loss = 0.0\n",
    "    \n",
    "    ###################\n",
    "    # train the model #\n",
    "    ###################\n",
    "    model.train()\n",
    "    for data, target in train_loader:\n",
    "        # move tensors to GPU if CUDA is available\n",
    "        if train_on_gpu:\n",
    "            data, target = data.cuda(), target.cuda()\n",
    "        # clear the gradients of all optimized variables\n",
    "        optimizer.zero_grad()\n",
    "        # forward pass: compute predicted outputs by passing inputs to the model\n",
    "        output = model(data)\n",
    "        # calculate the batch loss\n",
    "        loss = criterion(output, target)\n",
    "        # backward pass: compute gradient of the loss with respect to model parameters\n",
    "        loss.backward()\n",
    "        # perform a single optimization step (parameter update)\n",
    "        optimizer.step()\n",
    "        # update training loss\n",
    "        train_loss += loss.item()*data.size(0)\n",
    "        \n",
    "    ######################    \n",
    "    # validate the model #\n",
    "    ######################\n",
    "    model.eval()\n",
    "    for data, target in valid_loader:\n",
    "        # move tensors to GPU if CUDA is available\n",
    "        if train_on_gpu:\n",
    "            data, target = data.cuda(), target.cuda()\n",
    "        # forward pass: compute predicted outputs by passing inputs to the model\n",
    "        output = model(data)\n",
    "        # calculate the batch loss\n",
    "        loss = criterion(output, target)\n",
    "        # update average validation loss \n",
    "        valid_loss += loss.item()*data.size(0)\n",
    "    \n",
    "    # calculate average losses\n",
    "    train_loss = train_loss/len(train_loader.dataset)\n",
    "    valid_loss = valid_loss/len(valid_loader.dataset)   \n",
    "    \n",
    "    train_losslist.append(train_loss)\n",
    "        \n",
    "    # print training/validation statistics \n",
    "    print('Epoch: {} \\tTraining Loss: {:.6f} \\tValidation Loss: {:.6f}'.format(\n",
    "        epoch, train_loss, valid_loss))\n",
    "    \n",
    "    # save model if validation loss has decreased\n",
    "    if valid_loss <= valid_loss_min:\n",
    "        print('Validation loss decreased ({:.6f} --> {:.6f}).  Saving model ...'.format(\n",
    "        valid_loss_min,\n",
    "        valid_loss))\n",
    "        torch.save(model.state_dict(), 'model_cifar.pt')\n",
    "        valid_loss_min = valid_loss\n",
    "\n",
    "plt.plot([*range(n_epochs)], train_losslist)\n",
    "plt.xlabel(\"Epoch\")\n",
    "plt.ylabel(\"Loss\")\n",
    "plt.title(\"Performance of Model 1\")\n",
    "plt.show()"
   ]
  },
  {
   "cell_type": "markdown",
   "metadata": {},
   "source": [
    "Load best model"
   ]
  },
  {
   "cell_type": "code",
   "execution_count": 31,
   "metadata": {},
   "outputs": [
    {
     "data": {
      "text/plain": [
       "<All keys matched successfully>"
      ]
     },
     "execution_count": 31,
     "metadata": {},
     "output_type": "execute_result"
    }
   ],
   "source": [
    "model.load_state_dict(torch.load('model_cifar.pt'))"
   ]
  },
  {
   "cell_type": "markdown",
   "metadata": {},
   "source": [
    "Test network"
   ]
  },
  {
   "cell_type": "code",
   "execution_count": 32,
   "metadata": {},
   "outputs": [
    {
     "name": "stdout",
     "output_type": "stream",
     "text": [
      "Test Loss: 0.061648\n",
      "\n",
      "Test Accuracy of style 0: 76% (36/47)\n",
      "Test Accuracy of style 1: 71% (27/38)\n",
      "Test Accuracy of style 2: 81% (27/33)\n",
      "Test Accuracy of style 3: 67% (29/43)\n",
      "Test Accuracy of style 4: 53% (26/49)\n",
      "Test Accuracy of style 5: 79% (31/39)\n",
      "Test Accuracy of style 6: 80% (36/45)\n",
      "Test Accuracy of style 7: 74% (40/54)\n",
      "Test Accuracy of style 8: 79% (27/34)\n",
      "Test Accuracy of style 9: 96% (32/33)\n",
      "Test Accuracy of style 10: 83% (25/30)\n",
      "Test Accuracy of style 11: 57% (12/21)\n",
      "Test Accuracy of style 12: 85% (17/20)\n",
      "Test Accuracy of style 13: 85% (18/21)\n",
      "Test Accuracy of style 14: 66% (16/24)\n",
      "Test Accuracy of style 15: 91% (34/37)\n",
      "Test Accuracy of style 16: 97% (42/43)\n",
      "Test Accuracy of style 17: 68% (11/16)\n",
      "Test Accuracy of style 18: 86% (32/37)\n",
      "Test Accuracy of style 19: 100% (68/68)\n",
      "Test Accuracy of style 20: 94% (34/36)\n",
      "\n",
      "Test Accuracy (Overall): 80% (620/768)\n"
     ]
    }
   ],
   "source": [
    "# track test loss\n",
    "test_loss = 0.0\n",
    "class_correct = list(0. for i in range(21))\n",
    "class_total = list(0. for i in range(21))\n",
    "\n",
    "model.eval()\n",
    "# iterate over test data\n",
    "for data, target in test_loader:\n",
    "    # move tensors to GPU if CUDA is available\n",
    "    if train_on_gpu:\n",
    "        data, target = data.cuda(), target.cuda()\n",
    "    # forward pass: compute predicted outputs by passing inputs to the model\n",
    "    output = model(data)\n",
    "    # calculate the batch loss\n",
    "    loss = criterion(output, target)\n",
    "    # update test loss \n",
    "    test_loss += loss.item()*data.size(0)\n",
    "    # convert output probabilities to predicted class\n",
    "    _, pred = torch.max(output, 1)    \n",
    "    # compare predictions to true label\n",
    "    correct_tensor = pred.eq(target.data.view_as(pred))\n",
    "    correct = np.squeeze(correct_tensor.numpy()) if not train_on_gpu else np.squeeze(correct_tensor.cpu().numpy())\n",
    "    # calculate test accuracy for each object class\n",
    "    for i in range(len(target)):\n",
    "        label = target.data[i]\n",
    "        class_correct[label] += correct[i].item() if len(target) > 1 else correct.item()\n",
    "        class_total[label] += 1\n",
    "\n",
    "# average test loss\n",
    "test_loss = test_loss/len(test_loader.dataset)\n",
    "print('Test Loss: {:.6f}\\n'.format(test_loss))\n",
    "\n",
    "for i in range(21):\n",
    "    if class_total[i] > 0:\n",
    "        print('Test Accuracy of %5s: %2d%% (%2d/%2d)' % (\n",
    "            classes[i], 100 * class_correct[i] / class_total[i],\n",
    "            np.sum(class_correct[i]), np.sum(class_total[i])))\n",
    "    else:\n",
    "        print('Test Accuracy of %5s: N/A (no training examples)' % (classes[i]))\n",
    "\n",
    "print('\\nTest Accuracy (Overall): %2d%% (%2d/%2d)' % (\n",
    "    100. * np.sum(class_correct) / np.sum(class_total),\n",
    "    np.sum(class_correct), np.sum(class_total)))"
   ]
  },
  {
   "cell_type": "markdown",
   "metadata": {},
   "source": [
    "Visualise test results"
   ]
  },
  {
   "cell_type": "code",
   "execution_count": 33,
   "metadata": {},
   "outputs": [
    {
     "data": {
      "image/png": "[encoded data removed]",
      "text/plain": [
       "<Figure size 1800x288 with 20 Axes>"
      ]
     },
     "metadata": {},
     "output_type": "display_data"
    }
   ],
   "source": [
    "# obtain one batch of test images\n",
    "dataiter = iter(test_loader)\n",
    "images, labels = dataiter.next()# get sample outputs\n",
    "# if cuda:\n",
    "#     model.to(device)\n",
    "#     images, labels = images.to(device), labels.to(device)\n",
    "output = model(images)\n",
    "# convert output probabilities to predicted class\n",
    "_, preds = torch.max(output, 1)\n",
    "# prep images for display\n",
    "images = images.numpy()# plot the images in the batch, along with predicted and true labels\n",
    "fig = plt.figure(figsize=(25, 4))\n",
    "for idx in np.arange(20):\n",
    "    ax = fig.add_subplot(2, int(20/2), idx+1, xticks=[], yticks=[])\n",
    "    ax.imshow(np.squeeze(images[idx]), cmap='gray')\n",
    "    ax.set_title(\"{} ({})\".format(str(preds[idx].item()), str(labels[idx].item())),\n",
    "                 color=(\"green\" if preds[idx]==labels[idx] else \"red\"))"
   ]
  },
  {
   "cell_type": "code",
   "execution_count": null,
   "metadata": {},
   "outputs": [],
   "source": []
  }
 ],
 "metadata": {
  "@webio": {
   "lastCommId": null,
   "lastKernelId": null
  },
  "kernelspec": {
   "display_name": "Python 3 (ipykernel)",
   "language": "python",
   "name": "python3"
  },
  "language_info": {
   "codemirror_mode": {
    "name": "ipython",
    "version": 3
   },
   "file_extension": ".py",
   "mimetype": "text/x-python",
   "name": "python",
   "nbconvert_exporter": "python",
   "pygments_lexer": "ipython3",
   "version": "3.8.2"
  }
 },
 "nbformat": 4,
 "nbformat_minor": 2
}
