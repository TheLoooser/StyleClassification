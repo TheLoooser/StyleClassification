{
 "cells": [
  {
   "cell_type": "markdown",
   "metadata": {},
   "source": [
    "### MLP \n",
    "(MNIST Tutorial: https://medium.com/@aungkyawmyint_26195/multi-layer-perceptron-mnist-pytorch-463f795b897a)"
   ]
  },
  {
   "cell_type": "markdown",
   "metadata": {},
   "source": [
    "Libraries"
   ]
  },
  {
   "cell_type": "code",
   "execution_count": 12,
   "metadata": {},
   "outputs": [],
   "source": [
    "import torch\n",
    "import numpy as np\n",
    "import matplotlib.pyplot as plt\n",
    "from torchvision import datasets\n",
    "import torchvision.transforms as transforms\n",
    "from torch.utils.data.sampler import SubsetRandomSampler"
   ]
  },
  {
   "cell_type": "markdown",
   "metadata": {},
   "source": [
    "Data Preparation"
   ]
  },
  {
   "cell_type": "code",
   "execution_count": 2,
   "metadata": {},
   "outputs": [],
   "source": [
    "# number of subprocesses to use for data loading\n",
    "num_workers = 0\n",
    "# how many samples per batch to load\n",
    "batch_size = 20\n",
    "# percentage of training set to use as validation\n",
    "valid_size = 0.2# convert data to torch.FloatTensor\n",
    "transform = transforms.ToTensor()# choose the training and testing datasets\n",
    "train_data = datasets.MNIST(root = 'data', train = True, download = True, transform = transform)\n",
    "test_data = datasets.MNIST(root = 'data', train = False, download = True, transform = transform)# obtain training indices that will be used for validation\n",
    "num_train = len(train_data)\n",
    "indices = list(range(num_train))\n",
    "np.random.shuffle(indices)\n",
    "split = int(np.floor(valid_size * num_train))\n",
    "train_index, valid_index = indices[split:], indices[:split]# define samplers for obtaining training and validation batches\n",
    "train_sampler = SubsetRandomSampler(train_index)\n",
    "valid_sampler = SubsetRandomSampler(valid_index)# prepare data loaders\n",
    "train_loader = torch.utils.data.DataLoader(train_data, batch_size = batch_size, \n",
    "                                           sampler = train_sampler, num_workers = num_workers)\n",
    "valid_loader = torch.utils.data.DataLoader(train_data, batch_size = batch_size,\n",
    "                                          sampler = valid_sampler, num_workers = num_workers)\n",
    "test_loader = torch.utils.data.DataLoader(test_data, batch_size = batch_size,\n",
    "                                         num_workers = num_workers)"
   ]
  },
  {
   "cell_type": "markdown",
   "metadata": {},
   "source": [
    "Network architecture"
   ]
  },
  {
   "cell_type": "code",
   "execution_count": 3,
   "metadata": {},
   "outputs": [
    {
     "name": "stdout",
     "output_type": "stream",
     "text": [
      "Net(\n",
      "  (fc1): Linear(in_features=784, out_features=512, bias=True)\n",
      "  (fc2): Linear(in_features=512, out_features=512, bias=True)\n",
      "  (fc3): Linear(in_features=512, out_features=10, bias=True)\n",
      "  (droput): Dropout(p=0.2, inplace=False)\n",
      ")\n"
     ]
    }
   ],
   "source": [
    "import torch.nn as nn\n",
    "import torch.nn.functional as F# define NN architecture\n",
    "class Net(nn.Module):\n",
    "    def __init__(self):\n",
    "        super(Net,self).__init__()\n",
    "        # number of hidden nodes in each layer (512)\n",
    "        hidden_1 = 512\n",
    "        hidden_2 = 512\n",
    "        # linear layer (784 -> hidden_1)\n",
    "        self.fc1 = nn.Linear(28*28, 512)\n",
    "        # linear layer (n_hidden -> hidden_2)\n",
    "        self.fc2 = nn.Linear(512,512)\n",
    "        # linear layer (n_hidden -> 10)\n",
    "        self.fc3 = nn.Linear(512,10)\n",
    "        # dropout layer (p=0.2)\n",
    "        # dropout prevents overfitting of data\n",
    "        self.droput = nn.Dropout(0.2)\n",
    "        \n",
    "    def forward(self,x):\n",
    "        # flatten image input\n",
    "        x = x.view(-1,28*28)\n",
    "        # add hidden layer, with relu activation function\n",
    "        x = F.relu(self.fc1(x))\n",
    "        # add dropout layer\n",
    "        x = self.droput(x)\n",
    "         # add hidden layer, with relu activation function\n",
    "        x = F.relu(self.fc2(x))\n",
    "        # add dropout layer\n",
    "        x = self.droput(x)\n",
    "        # add output layer\n",
    "        x = self.fc3(x)\n",
    "        return x# initialize the NN\n",
    "model = Net()\n",
    "print(model)"
   ]
  },
  {
   "cell_type": "markdown",
   "metadata": {},
   "source": [
    "Loss function and optimiser"
   ]
  },
  {
   "cell_type": "code",
   "execution_count": 4,
   "metadata": {},
   "outputs": [],
   "source": [
    "# specify loss function (categorical cross-entropy)\n",
    "criterion = nn.CrossEntropyLoss()# specify optimizer (stochastic gradient descent) and learning rate = 0.01\n",
    "optimizer = torch.optim.SGD(model.parameters(),lr = 0.01)"
   ]
  },
  {
   "cell_type": "markdown",
   "metadata": {},
   "source": [
    "CUDA"
   ]
  },
  {
   "cell_type": "code",
   "execution_count": 5,
   "metadata": {},
   "outputs": [],
   "source": [
    "# check if CUDA is available (to increase performance)\n",
    "cuda = False\n",
    "if torch.cuda.is_available():\n",
    "    cuda = True\n",
    "    device = torch.device(\"cuda:0\" if torch.cuda.is_available() else \"cpu\")"
   ]
  },
  {
   "cell_type": "markdown",
   "metadata": {},
   "source": [
    "Training"
   ]
  },
  {
   "cell_type": "code",
   "execution_count": 7,
   "metadata": {},
   "outputs": [
    {
     "name": "stdout",
     "output_type": "stream",
     "text": [
      "Epoch: 1 \tTraining Loss: 0.147702 \tValidation Loss: 0.000397\n",
      "Validation loss decreased (inf --> 0.000397).  Saving model ...\n",
      "Epoch: 2 \tTraining Loss: 0.131212 \tValidation Loss: 0.000051\n",
      "Validation loss decreased (0.000397 --> 0.000051).  Saving model ...\n",
      "Epoch: 3 \tTraining Loss: 0.119634 \tValidation Loss: 0.000056\n",
      "Epoch: 4 \tTraining Loss: 0.108774 \tValidation Loss: 0.000229\n",
      "Epoch: 5 \tTraining Loss: 0.099355 \tValidation Loss: 0.000394\n",
      "Epoch: 6 \tTraining Loss: 0.092045 \tValidation Loss: 0.000066\n",
      "Epoch: 7 \tTraining Loss: 0.086379 \tValidation Loss: 0.000214\n",
      "Epoch: 8 \tTraining Loss: 0.079271 \tValidation Loss: 0.000059\n",
      "Epoch: 9 \tTraining Loss: 0.073685 \tValidation Loss: 0.000032\n",
      "Validation loss decreased (0.000051 --> 0.000032).  Saving model ...\n",
      "Epoch: 10 \tTraining Loss: 0.068740 \tValidation Loss: 0.000009\n",
      "Validation loss decreased (0.000032 --> 0.000009).  Saving model ...\n",
      "Epoch: 11 \tTraining Loss: 0.064306 \tValidation Loss: 0.000020\n",
      "Epoch: 12 \tTraining Loss: 0.061216 \tValidation Loss: 0.000795\n",
      "Epoch: 13 \tTraining Loss: 0.057038 \tValidation Loss: 0.000073\n",
      "Epoch: 14 \tTraining Loss: 0.052621 \tValidation Loss: 0.000011\n",
      "Epoch: 15 \tTraining Loss: 0.050053 \tValidation Loss: 0.000009\n",
      "Validation loss decreased (0.000009 --> 0.000009).  Saving model ...\n",
      "Epoch: 16 \tTraining Loss: 0.047081 \tValidation Loss: 0.000012\n",
      "Epoch: 17 \tTraining Loss: 0.045000 \tValidation Loss: 0.000005\n",
      "Validation loss decreased (0.000009 --> 0.000005).  Saving model ...\n",
      "Epoch: 18 \tTraining Loss: 0.041939 \tValidation Loss: 0.000249\n",
      "Epoch: 19 \tTraining Loss: 0.039537 \tValidation Loss: 0.000381\n",
      "Epoch: 20 \tTraining Loss: 0.039203 \tValidation Loss: 0.000050\n",
      "Epoch: 21 \tTraining Loss: 0.037159 \tValidation Loss: 0.000071\n",
      "Epoch: 22 \tTraining Loss: 0.033963 \tValidation Loss: 0.000014\n",
      "Epoch: 23 \tTraining Loss: 0.032453 \tValidation Loss: 0.000009\n",
      "Epoch: 24 \tTraining Loss: 0.030895 \tValidation Loss: 0.000003\n",
      "Validation loss decreased (0.000005 --> 0.000003).  Saving model ...\n",
      "Epoch: 25 \tTraining Loss: 0.029894 \tValidation Loss: 0.000166\n",
      "Epoch: 26 \tTraining Loss: 0.028028 \tValidation Loss: 0.000128\n",
      "Epoch: 27 \tTraining Loss: 0.026401 \tValidation Loss: 0.000004\n",
      "Epoch: 28 \tTraining Loss: 0.025030 \tValidation Loss: 0.000003\n",
      "Validation loss decreased (0.000003 --> 0.000003).  Saving model ...\n",
      "Epoch: 29 \tTraining Loss: 0.024657 \tValidation Loss: 0.000037\n",
      "Epoch: 30 \tTraining Loss: 0.022968 \tValidation Loss: 0.000008\n",
      "Epoch: 31 \tTraining Loss: 0.021433 \tValidation Loss: 0.000003\n",
      "Epoch: 32 \tTraining Loss: 0.021106 \tValidation Loss: 0.000138\n",
      "Epoch: 33 \tTraining Loss: 0.019421 \tValidation Loss: 0.000007\n",
      "Epoch: 34 \tTraining Loss: 0.018350 \tValidation Loss: 0.000498\n",
      "Epoch: 35 \tTraining Loss: 0.018896 \tValidation Loss: 0.000046\n",
      "Epoch: 36 \tTraining Loss: 0.018064 \tValidation Loss: 0.000005\n",
      "Epoch: 37 \tTraining Loss: 0.017558 \tValidation Loss: 0.000001\n",
      "Validation loss decreased (0.000003 --> 0.000001).  Saving model ...\n",
      "Epoch: 38 \tTraining Loss: 0.016355 \tValidation Loss: 0.000001\n",
      "Validation loss decreased (0.000001 --> 0.000001).  Saving model ...\n",
      "Epoch: 39 \tTraining Loss: 0.016150 \tValidation Loss: 0.000032\n",
      "Epoch: 40 \tTraining Loss: 0.014277 \tValidation Loss: 0.000000\n",
      "Validation loss decreased (0.000001 --> 0.000000).  Saving model ...\n",
      "Epoch: 41 \tTraining Loss: 0.014806 \tValidation Loss: 0.000002\n",
      "Epoch: 42 \tTraining Loss: 0.015443 \tValidation Loss: 0.000004\n",
      "Epoch: 43 \tTraining Loss: 0.013314 \tValidation Loss: 0.000029\n",
      "Epoch: 44 \tTraining Loss: 0.012850 \tValidation Loss: 0.000265\n",
      "Epoch: 45 \tTraining Loss: 0.012826 \tValidation Loss: 0.001024\n",
      "Epoch: 46 \tTraining Loss: 0.012403 \tValidation Loss: 0.000033\n",
      "Epoch: 47 \tTraining Loss: 0.011362 \tValidation Loss: 0.000000\n",
      "Validation loss decreased (0.000000 --> 0.000000).  Saving model ...\n",
      "Epoch: 48 \tTraining Loss: 0.011822 \tValidation Loss: 0.000020\n",
      "Epoch: 49 \tTraining Loss: 0.011465 \tValidation Loss: 0.000014\n",
      "Epoch: 50 \tTraining Loss: 0.011329 \tValidation Loss: 0.000014\n"
     ]
    }
   ],
   "source": [
    "# number of epochs to train the model\n",
    "n_epochs = 50# initialize tracker for minimum validation loss\n",
    "valid_loss_min = np.Inf  # set initial \"min\" to infinity\n",
    "for epoch in range(n_epochs):\n",
    "    # monitor losses\n",
    "    train_loss = 0\n",
    "    valid_loss = 0\n",
    "     \n",
    "    ###################\n",
    "    # train the model #\n",
    "    ###################\n",
    "    model.train() # prep model for training\n",
    "    for data,label in train_loader:\n",
    "        if cuda:\n",
    "            model.to(device)\n",
    "            data, label = data.to(device), label.to(device)\n",
    "        # clear the gradients of all optimized variables\n",
    "        optimizer.zero_grad()\n",
    "        # forward pass: compute predicted outputs by passing inputs to the model\n",
    "        output = model(data)\n",
    "        # calculate the loss\n",
    "        loss = criterion(output,label)\n",
    "        # backward pass: compute gradient of the loss with respect to model parameters\n",
    "        loss.backward()\n",
    "        # perform a single optimization step (parameter update)\n",
    "        optimizer.step()\n",
    "        # update running training loss\n",
    "        train_loss += loss.item() * data.size(0)\n",
    "        \n",
    "        \n",
    "     ######################    \n",
    "    # validate the model #\n",
    "    ######################\n",
    "    model.eval()  # prep model for evaluation\n",
    "    for data,label in valid_loader:\n",
    "        if cuda:\n",
    "            model.to(device)\n",
    "            data, label = data.to(device), label.to(device)\n",
    "        # forward pass: compute predicted outputs by passing inputs to the model\n",
    "        output = model(data)\n",
    "        # calculate the loss\n",
    "        loss = criterion(output,label)\n",
    "        # update running validation loss \n",
    "        valid_loss = loss.item() * data.size(0)\n",
    "    \n",
    "    # print training/validation statistics \n",
    "    # calculate average loss over an epoch\n",
    "    train_loss = train_loss / len(train_loader.sampler)\n",
    "    valid_loss = valid_loss / len(valid_loader.sampler)\n",
    "    \n",
    "    print('Epoch: {} \\tTraining Loss: {:.6f} \\tValidation Loss: {:.6f}'.format(\n",
    "        epoch+1, \n",
    "        train_loss,\n",
    "        valid_loss\n",
    "        ))\n",
    "    \n",
    "    # save model if validation loss has decreased\n",
    "    if valid_loss <= valid_loss_min:\n",
    "        print('Validation loss decreased ({:.6f} --> {:.6f}).  Saving model ...'.format(\n",
    "        valid_loss_min,\n",
    "        valid_loss))\n",
    "        torch.save(model.state_dict(), 'model.pt')\n",
    "        valid_loss_min = valid_loss"
   ]
  },
  {
   "cell_type": "markdown",
   "metadata": {},
   "source": [
    "Load best model"
   ]
  },
  {
   "cell_type": "code",
   "execution_count": 6,
   "metadata": {},
   "outputs": [
    {
     "data": {
      "text/plain": [
       "<All keys matched successfully>"
      ]
     },
     "execution_count": 6,
     "metadata": {},
     "output_type": "execute_result"
    }
   ],
   "source": [
    "model.load_state_dict(torch.load('model.pt'))"
   ]
  },
  {
   "cell_type": "markdown",
   "metadata": {},
   "source": [
    "Test network"
   ]
  },
  {
   "cell_type": "code",
   "execution_count": 7,
   "metadata": {},
   "outputs": [
    {
     "name": "stdout",
     "output_type": "stream",
     "text": [
      "Test Loss: 0.064888\n",
      "\n",
      "Test Accuracy of     0: 98% (970/980)\n",
      "Test Accuracy of     1: 99% (1127/1135)\n",
      "Test Accuracy of     2: 97% (1009/1032)\n",
      "Test Accuracy of     3: 98% (994/1010)\n",
      "Test Accuracy of     4: 97% (959/982)\n",
      "Test Accuracy of     5: 97% (871/892)\n",
      "Test Accuracy of     6: 98% (943/958)\n",
      "Test Accuracy of     7: 97% (1006/1028)\n",
      "Test Accuracy of     8: 97% (950/974)\n",
      "Test Accuracy of     9: 97% (984/1009)\n",
      "\n",
      "Test Accuracy (Overall): 98% (9813/10000)\n"
     ]
    }
   ],
   "source": [
    "# initialize lists to monitor test loss and accuracy\n",
    "test_loss = 0.0\n",
    "class_correct = list(0. for i in range(10))\n",
    "class_total = list(0. for i in range(10))\n",
    "\n",
    "model.eval() # prep model for evaluation\n",
    "\n",
    "for data, target in test_loader:\n",
    "    if cuda:\n",
    "            model.to(device)\n",
    "            data, target = data.to(device), target.to(device)\n",
    "    # forward pass: compute predicted outputs by passing inputs to the model\n",
    "    output = model(data)\n",
    "    # calculate the loss\n",
    "    loss = criterion(output, target)\n",
    "    # update test loss \n",
    "    test_loss += loss.item()*data.size(0)\n",
    "    # convert output probabilities to predicted class\n",
    "    _, pred = torch.max(output, 1)\n",
    "    # compare predictions to true label\n",
    "    correct = np.squeeze(pred.eq(target.data.view_as(pred)))\n",
    "    # calculate test accuracy for each object class\n",
    "    for i in range(len(target)):\n",
    "        label = target.data[i]\n",
    "        class_correct[label] += correct[i].item()\n",
    "        class_total[label] += 1\n",
    "    \n",
    "# calculate and print avg test loss\n",
    "test_loss = test_loss/len(test_loader.sampler)\n",
    "print('Test Loss: {:.6f}\\n'.format(test_loss))\n",
    "\n",
    "for i in range(10):\n",
    "    if class_total[i] > 0:\n",
    "        print('Test Accuracy of %5s: %2d%% (%2d/%2d)' % (\n",
    "            str(i), 100 * class_correct[i] / class_total[i],\n",
    "            np.sum(class_correct[i]), np.sum(class_total[i])))\n",
    "    else:\n",
    "        print('Test Accuracy of %5s: N/A (no training examples)' % (classes[i]))\n",
    "\n",
    "print('\\nTest Accuracy (Overall): %2d%% (%2d/%2d)' % (\n",
    "    100. * np.sum(class_correct) / np.sum(class_total),\n",
    "    np.sum(class_correct), np.sum(class_total)))"
   ]
  },
  {
   "cell_type": "markdown",
   "metadata": {},
   "source": [
    "Visualise results"
   ]
  },
  {
   "cell_type": "code",
   "execution_count": 13,
   "metadata": {},
   "outputs": [
    {
     "data": {
      "image/png": "[encoded data removed]",
      "text/plain": [
       "<Figure size 1800x288 with 20 Axes>"
      ]
     },
     "metadata": {},
     "output_type": "display_data"
    }
   ],
   "source": [
    "# obtain one batch of test images\n",
    "dataiter = iter(test_loader)\n",
    "images, labels = dataiter.next()# get sample outputs\n",
    "if cuda:\n",
    "    model.to(device)\n",
    "    images, labels = images.to(device), labels.to(device)\n",
    "output = model(images)\n",
    "# convert output probabilities to predicted class\n",
    "_, preds = torch.max(output, 1)\n",
    "# prep images for display\n",
    "images = images.cpu().numpy()# plot the images in the batch, along with predicted and true labels\n",
    "fig = plt.figure(figsize=(25, 4))\n",
    "for idx in np.arange(20):\n",
    "    ax = fig.add_subplot(2, 20/2, idx+1, xticks=[], yticks=[])\n",
    "    ax.imshow(np.squeeze(images[idx]), cmap='gray')\n",
    "    ax.set_title(\"{} ({})\".format(str(preds[idx].item()), str(labels[idx].item())),\n",
    "                 color=(\"green\" if preds[idx]==labels[idx] else \"red\"))"
   ]
  },
  {
   "cell_type": "code",
   "execution_count": null,
   "metadata": {},
   "outputs": [],
   "source": []
  }
 ],
 "metadata": {
  "kernelspec": {
   "display_name": "Python 3 (ipykernel)",
   "language": "python",
   "name": "python3"
  },
  "language_info": {
   "codemirror_mode": {
    "name": "ipython",
    "version": 3
   },
   "file_extension": ".py",
   "mimetype": "text/x-python",
   "name": "python",
   "nbconvert_exporter": "python",
   "pygments_lexer": "ipython3",
   "version": "3.8.2"
  }
 },
 "nbformat": 4,
 "nbformat_minor": 2
}
